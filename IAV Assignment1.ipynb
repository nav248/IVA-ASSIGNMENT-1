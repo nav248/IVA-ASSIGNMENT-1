{
  "nbformat": 4,
  "nbformat_minor": 0,
  "metadata": {
    "colab": {
      "private_outputs": true,
      "provenance": []
    },
    "kernelspec": {
      "name": "python3",
      "display_name": "Python 3"
    },
    "language_info": {
      "name": "python"
    }
  },
  "cells": [
    {
      "cell_type": "markdown",
      "source": [
        "IAV\n",
        "Assignment-1\n",
        "160122771080"
      ],
      "metadata": {
        "id": "1miZcvAw-4J3"
      }
    },
    {
      "cell_type": "markdown",
      "source": [
        "5.Implement Optical Character Recognition (OCR) for\n",
        "Handwritten Text"
      ],
      "metadata": {
        "id": "mXHAmkU6cVO0"
      }
    },
    {
      "cell_type": "code",
      "source": [
        "import cv2\n",
        "import numpy as np\n",
        "import pytesseract\n",
        "import easyocr\n",
        "import os\n",
        "\n",
        "# Set Tesseract OCR path (Update this based on your system)\n",
        "pytesseract.pytesseract.tesseract_cmd = r\"/usr/bin/tesseract\"\n",
        "\n",
        "def preprocess_image(image_path):\n",
        "    \"\"\"Load and preprocess the image for better OCR accuracy.\"\"\"\n",
        "\n",
        "    # Check if image file exists\n",
        "    if not os.path.exists(image_path):\n",
        "        raise FileNotFoundError(f\"Error: Image file not found at {image_path}\")\n",
        "\n",
        "    image = cv2.imread(image_path, cv2.IMREAD_GRAYSCALE)\n",
        "\n",
        "    # Ensure image is loaded correctly\n",
        "    if image is None:\n",
        "        raise ValueError(f\"Error: Unable to load the image. Check the file format and path: {image_path}\")\n",
        "\n",
        "    # Apply thresholding to enhance text\n",
        "    _, thresh = cv2.threshold(image, 127, 255, cv2.THRESH_BINARY + cv2.THRESH_OTSU)\n",
        "\n",
        "    # Denoise the image\n",
        "    denoised = cv2.fastNlMeansDenoising(thresh, h=30)\n",
        "\n",
        "    return denoised\n",
        "\n",
        "def extract_text_tesseract(image):\n",
        "    \"\"\"Extract text using Tesseract OCR.\"\"\"\n",
        "    custom_config = r'--oem 3 --psm 6'\n",
        "    text = pytesseract.image_to_string(image, config=custom_config)\n",
        "    return text.strip()\n",
        "\n",
        "def extract_text_easyocr(image_path):\n",
        "    \"\"\"Extract text using EasyOCR.\"\"\"\n",
        "    reader = easyocr.Reader(['en'])  # Initialize EasyOCR for English\n",
        "    text = reader.readtext(image_path, detail=0)\n",
        "    return \" \".join(text)\n",
        "\n",
        "def main():\n",
        "    \"\"\"Main function to run OCR.\"\"\"\n",
        "    # Provide correct image file name (update path if needed)\n",
        "    image_path = r\"/content/image1.jpg\"\n",
        "\n",
        "    print(\"\\nPreprocessing Image...\")\n",
        "    processed_image = preprocess_image(image_path)\n",
        "\n",
        "    # Save processed image (for debugging)\n",
        "    cv2.imwrite(\"processed_image.jpg\", processed_image)\n",
        "\n",
        "    print(\"\\nExtracting Text with Tesseract OCR...\")\n",
        "    tesseract_text = extract_text_tesseract(processed_image)\n",
        "    print(\"Tesseract OCR Output:\\n\", tesseract_text)\n",
        "\n",
        "    print(\"\\nExtracting Text with EasyOCR...\")\n",
        "    easyocr_text = extract_text_easyocr(image_path)\n",
        "    print(\"EasyOCR Output:\\n\", easyocr_text)\n",
        "\n",
        "if __name__ == \"__main__\":\n",
        "    main()\n"
      ],
      "metadata": {
        "id": "BdGWBp5ecWAi"
      },
      "execution_count": null,
      "outputs": []
    },
    {
      "cell_type": "code",
      "source": [
        "!pip install pytesseract"
      ],
      "metadata": {
        "id": "mRnsITE4Y7EI"
      },
      "execution_count": null,
      "outputs": []
    },
    {
      "cell_type": "code",
      "source": [
        "!sudo apt install tesseract-ocr"
      ],
      "metadata": {
        "id": "3Q8Y21WzY91n"
      },
      "execution_count": null,
      "outputs": []
    },
    {
      "cell_type": "markdown",
      "source": [
        "another code"
      ],
      "metadata": {
        "id": "fBuGMnZid54N"
      }
    },
    {
      "cell_type": "code",
      "source": [
        "import cv2\n",
        "import pytesseract\n",
        "def ocr_core(img):\n",
        "    text = pytesseract.image_to_string(img)\n",
        "    return text\n",
        "img = cv2.imread('/content/image1.jpg')\n",
        "def get_grayscale(image):\n",
        "    return cv2.cvtColor(image, cv2.COLOR_BGR2GRAY)\n",
        "def remove_noise(image):\n",
        "    return cv2.medianBlur(image,5)\n",
        "def thresholding(image):\n",
        "    return cv2.threshold(image, 0, 255, cv2.THRESH_BINARY + cv2.THRESH_OTSU)[1]\n",
        "    cv2.waitKey(0)\n",
        "\n",
        "img = get_grayscale(img)\n",
        "img = thresholding(img)\n",
        "img = remove_noise(img)\n",
        "print(ocr_core(img))\n"
      ],
      "metadata": {
        "id": "h5orE8DAd96L"
      },
      "execution_count": null,
      "outputs": []
    },
    {
      "cell_type": "code",
      "source": [
        "import numpy as np\n",
        "import cv2\n",
        "\n",
        "# Open webcam\n",
        "webcam = cv2.VideoCapture(0)\n",
        "\n",
        "if not webcam.isOpened():\n",
        "    print(\"Error: Could not open webcam\")\n",
        "    exit()\n",
        "\n",
        "# Define color ranges\n",
        "colors = {\n",
        "    \"Red\": ([136, 87, 111], [180, 255, 255], (0, 0, 255)),\n",
        "    \"Green\": ([25, 52, 72], [102, 255, 255], (0, 255, 0)),\n",
        "    \"Blue\": ([94, 80, 2], [120, 255, 255], (255, 0, 0))\n",
        "}\n",
        "\n",
        "while True:\n",
        "    ret, imageFrame = webcam.read()\n",
        "    if not ret:\n",
        "        print(\"Error: Could not read frame\")\n",
        "        break\n",
        "\n",
        "    hsvFrame = cv2.cvtColor(imageFrame, cv2.COLOR_BGR2HSV)\n",
        "    kernel = np.ones((5, 5), \"uint8\")\n",
        "\n",
        "    for color_name, (lower, upper, color) in colors.items():\n",
        "        lower, upper = np.array(lower, np.uint8), np.array(upper, np.uint8)\n",
        "        mask = cv2.inRange(hsvFrame, lower, upper)\n",
        "        mask = cv2.dilate(mask, kernel)\n",
        "        contours, _ = cv2.findContours(mask, cv2.RETR_TREE, cv2.CHAIN_APPROX_SIMPLE)\n",
        "\n",
        "        for contour in contours:\n",
        "            area = cv2.contourArea(contour)\n",
        "            if area > 300:\n",
        "                x, y, w, h = cv2.boundingRect(contour)\n",
        "                cv2.rectangle(imageFrame, (x, y), (x + w, y + h), color, 2)\n",
        "                cv2.putText(imageFrame, f\"{color_name} Color\", (x, y - 10),\n",
        "                            cv2.FONT_HERSHEY_SIMPLEX, 0.6, color, 2)\n",
        "\n",
        "    cv2.imshow(\"Multiple Color Detection\", imageFrame)\n",
        "\n",
        "    # Press 'q' to exit\n",
        "    if cv2.waitKey(10) & 0xFF == ord('q'):\n",
        "        break\n",
        "\n",
        "webcam.release()\n",
        "cv2.destroyAllWindows()\n"
      ],
      "metadata": {
        "id": "A3zxkkLjevBO"
      },
      "execution_count": null,
      "outputs": []
    },
    {
      "cell_type": "markdown",
      "source": [
        "Data structures for Image Analysis -Write a program that computes the T-pyramid of an image"
      ],
      "metadata": {
        "id": "OMH24yiCocWX"
      }
    },
    {
      "cell_type": "code",
      "source": [
        "\n",
        "import cv2\n",
        "import matplotlib.pyplot as plt\n",
        "# Import the necessary function\n",
        "from google.colab.patches import cv2_imshow\n",
        "\n",
        "# Load the image\n",
        "img = cv2.imread('/content/image1.jpg')\n",
        "layer=img.copy()\n",
        "for i in range(4):\n",
        "  plt.subplot(2,2,i+1)\n",
        "  layer=cv2.pyrDown(layer)\n",
        "  plt.imshow(layer)\n",
        "  # Use cv2_imshow instead of cv2.imshow\n",
        "  cv2_imshow(layer)\n",
        "  cv2.waitKey(0)\n",
        "\n",
        "cv2.destroyAllWindows()"
      ],
      "metadata": {
        "id": "yCjCMHcHonMm"
      },
      "execution_count": null,
      "outputs": []
    },
    {
      "cell_type": "markdown",
      "source": [
        "Sample project for Image Smoothing"
      ],
      "metadata": {
        "id": "brruLMmaskbQ"
      }
    },
    {
      "cell_type": "code",
      "source": [
        "import cv2\n",
        "import numpy as np\n",
        "from google.colab.patches import cv2_imshow\n",
        "\n",
        "image =cv2.imread('/content/image1.jpg')\n",
        "kernel2=np.ones((5,5),np.float32)/25\n",
        "img=cv2.filter2D(src=image,ddepth=-1,kernel=kernel2)\n",
        "cv2_imshow(image)\n",
        "cv2_imshow(img)\n",
        "cv2.waitKey()\n",
        "cv2.destroyAllWindows()"
      ],
      "metadata": {
        "id": "IOxlnd_xsoVg"
      },
      "execution_count": null,
      "outputs": []
    },
    {
      "cell_type": "markdown",
      "source": [
        "Sample project for Edge detection using Sobel ,Canny edge."
      ],
      "metadata": {
        "id": "PvW4RwfmwlR8"
      }
    },
    {
      "cell_type": "code",
      "source": [
        "import numpy as np\n",
        "import cv2 as cv\n",
        "import matplotlib.pyplot as plt\n",
        "import os\n",
        "\n",
        "# Provide the correct path to the image file\n",
        "# Removed extra space from the path\n",
        "img_path = '/content/image1.jpg'  # Update this path if needed\n",
        "\n",
        "# Check if the file exists before reading it\n",
        "if not os.path.exists(img_path):\n",
        "    raise FileNotFoundError(f\"Error: Image file not found at {img_path}\")\n",
        "\n",
        "# Read the image in grayscale\n",
        "img = cv.imread(img_path, cv.IMREAD_GRAYSCALE)\n",
        "assert img is not None, \"File could not be read, check with os.path.exists()\"\n",
        "\n",
        "# Compute Sobel gradients\n",
        "sobel_x = cv.Sobel(img, cv.CV_64F, 1, 0, ksize=5)\n",
        "sobel_y = cv.Sobel(img, cv.CV_64F, 0, 1, ksize=5)\n",
        "\n",
        "# Compute gradient magnitude (combined Sobel)\n",
        "sobel_combined = np.sqrt(sobel_x**2 + sobel_y**2)\n",
        "sobel_combined = cv.convertScaleAbs(sobel_combined)  # Convert to uint8\n",
        "\n",
        "# Canny Edge Detection\n",
        "edges = cv.Canny(img, 100, 200)\n",
        "\n",
        "# Plot the results\n",
        "plt.figure(figsize=(12, 8))\n",
        "\n",
        "plt.subplot(2, 2, 1)\n",
        "plt.title('Original Image')\n",
        "plt.imshow(img, cmap='gray')\n",
        "plt.axis('off')\n",
        "\n",
        "plt.subplot(2, 2, 2)\n",
        "plt.title('Sobel X')\n",
        "plt.imshow(sobel_x, cmap='gray')\n",
        "plt.axis('off')\n",
        "\n",
        "plt.subplot(2, 2, 3)\n",
        "plt.title('Sobel Y')\n",
        "plt.imshow(sobel_y, cmap='gray')\n",
        "plt.axis('off')\n",
        "\n",
        "plt.subplot(2, 2, 4)\n",
        "plt.title('Sobel Combined')\n",
        "plt.imshow(sobel_combined, cmap='gray')\n",
        "plt.axis('off')\n",
        "\n",
        "# Show Edge Detection separately\n",
        "plt.figure(figsize=(6, 6))\n",
        "plt.title('Edge Image using Canny')\n",
        "plt.imshow(edges, cmap='gray')\n",
        "plt.axis('off')\n",
        "\n",
        "plt.show()"
      ],
      "metadata": {
        "id": "QS8sE-plwlfE"
      },
      "execution_count": null,
      "outputs": []
    },
    {
      "cell_type": "code",
      "source": [],
      "metadata": {
        "id": "8Wozwmp47AtB"
      },
      "execution_count": null,
      "outputs": []
    }
  ]
}